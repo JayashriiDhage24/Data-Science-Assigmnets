{
 "cells": [
  {
   "cell_type": "code",
   "execution_count": 1,
   "id": "3c4ed48b-8011-4a31-bd7d-e702dc9ea74a",
   "metadata": {},
   "outputs": [],
   "source": [
    "import math\n",
    "from scipy.stats import norm"
   ]
  },
  {
   "cell_type": "code",
   "execution_count": 3,
   "id": "594dba98-9230-4836-8044-21c96f03addb",
   "metadata": {},
   "outputs": [],
   "source": [
    "#Step 1: state the hypotheses\n",
    "# Null Hypothesis (H0): Weekly operating cost = theoretical weekly cost (no increase)\n",
    "# Alternative Hypothesis (H1): Weekly operating cost > theoretical weekly cost (increase)\n",
    "\n",
    "# Given data\n",
    "sample_mean = 3050                # x̄\n",
    "theoretical_cost_model = 1000 + 5 * 600  # μ\n",
    "sigma_x = 5 * 25                  # σ\n",
    "sample_size = 25                  # n\n",
    "alpha = 0.05                      # significance level"
   ]
  },
  {
   "cell_type": "code",
   "execution_count": 9,
   "id": "588a4b6b-daf4-49d4-88e5-056270c30236",
   "metadata": {},
   "outputs": [
    {
     "data": {
      "text/plain": [
       "-38.0"
      ]
     },
     "execution_count": 9,
     "metadata": {},
     "output_type": "execute_result"
    }
   ],
   "source": [
    "# Step 2: Calculate the test statistic\n",
    "def calculate_test_statistic(sample_mean,theoretical_mean, sigma , sample_size):\n",
    "    standard_error=sigma/math.sqrt(sample_size)\n",
    "    test_statistic=(sample_mean-theoretical_mean)/standard_error\n",
    "    return test_statistic\n",
    "theoretical_mean=theoretical_cost_model\n",
    "test_statistic=calculate_test_statistic(sample_mean ,theoretical_mean,sigma_x, sample_size)\n",
    "test_statistic"
   ]
  },
  {
   "cell_type": "code",
   "execution_count": 13,
   "id": "4a4ade15-51f5-48bc-bbf0-6fba0bf89bc2",
   "metadata": {},
   "outputs": [
    {
     "data": {
      "text/plain": [
       "1.6448536269514722"
      ]
     },
     "execution_count": 13,
     "metadata": {},
     "output_type": "execute_result"
    }
   ],
   "source": [
    "# Step 3: Determine the critical value\n",
    "critical_value=norm.ppf(1-alpha)\n",
    "critical_value"
   ]
  },
  {
   "cell_type": "code",
   "execution_count": 15,
   "id": "6b1189d4-20ac-4793-8bd6-ae07f82b56e1",
   "metadata": {},
   "outputs": [
    {
     "data": {
      "text/plain": [
       "'Fail to reject the null hypothesis.'"
      ]
     },
     "execution_count": 15,
     "metadata": {},
     "output_type": "execute_result"
    }
   ],
   "source": [
    "# Step 4: Make a decision\n",
    "def make_decision(test_statistic,critical_value):\n",
    "    if test_statistic>critical_value:\n",
    "        return \"Reject the null hypothesis.\"\n",
    "    else:\n",
    "        return \"Fail to reject the null hypothesis.\"\n",
    "decision = make_decision (test_statistic,critical_value)\n",
    "decision"
   ]
  },
  {
   "cell_type": "code",
   "execution_count": 19,
   "id": "ed09c1ee-e95a-4711-9053-b3e9ed6fd97c",
   "metadata": {},
   "outputs": [
    {
     "name": "stdout",
     "output_type": "stream",
     "text": [
      "Hypothesis Testing Results:\n",
      "Sample Mean (x̄): 3050\n",
      "Theoretical Mean (μ): 4000\n",
      "Standard Deviation (σ): 125\n",
      "Sample Size (n): 25\n",
      "Significance Level (α): 0.05\n",
      "Test Statistic (t): -38.00\n",
      "Critical Value (Z): 1.64\n",
      "Decision: Fail to reject the null hypothesis.\n"
     ]
    }
   ],
   "source": [
    "#Step5:Print the conclusion\n",
    "print(\"Hypothesis Testing Results:\")\n",
    "print(f\"Sample Mean (x̄): {sample_mean}\")\n",
    "print(f\"Theoretical Mean (μ): {theoretical_mean}\")\n",
    "print(f\"Standard Deviation (σ): {sigma_x}\")\n",
    "print(f\"Sample Size (n): {sample_size}\")\n",
    "print(f\"Significance Level (α): {alpha}\")\n",
    "print(f\"Test Statistic (t): {test_statistic:.2f}\")\n",
    "print(f\"Critical Value (Z): {critical_value:.2f}\")\n",
    "print(f\"Decision: {decision}\")"
   ]
  },
  {
   "cell_type": "code",
   "execution_count": null,
   "id": "d269ac0a-a3a8-4ac6-8e1b-0cab3809492b",
   "metadata": {},
   "outputs": [],
   "source": []
  }
 ],
 "metadata": {
  "kernelspec": {
   "display_name": "Python 3 (ipykernel)",
   "language": "python",
   "name": "python3"
  },
  "language_info": {
   "codemirror_mode": {
    "name": "ipython",
    "version": 3
   },
   "file_extension": ".py",
   "mimetype": "text/x-python",
   "name": "python",
   "nbconvert_exporter": "python",
   "pygments_lexer": "ipython3",
   "version": "3.12.4"
  }
 },
 "nbformat": 4,
 "nbformat_minor": 5
}
