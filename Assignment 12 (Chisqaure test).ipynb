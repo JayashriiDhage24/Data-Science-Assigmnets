{
 "cells": [
  {
   "cell_type": "code",
   "execution_count": 14,
   "id": "b22a9335-8dd0-4d84-8cc6-c1490f603686",
   "metadata": {},
   "outputs": [],
   "source": [
    "import numpy as np\n",
    "import scipy.stats as stats\n",
    "import pandas as pd"
   ]
  },
  {
   "cell_type": "code",
   "execution_count": 16,
   "id": "891425b7-2484-4f14-a114-d5422096969c",
   "metadata": {},
   "outputs": [
    {
     "data": {
      "text/plain": [
       "array([[ 50,  70],\n",
       "       [ 80, 100],\n",
       "       [ 60,  90],\n",
       "       [ 30,  50],\n",
       "       [ 20,  50]])"
      ]
     },
     "execution_count": 16,
     "metadata": {},
     "output_type": "execute_result"
    }
   ],
   "source": [
    "data=np.array([\n",
    "    [50, 70],\n",
    "    [80, 100],\n",
    "    [60, 90],\n",
    "    [30, 50],\n",
    "    [20, 50]\n",
    "])\n",
    "data"
   ]
  },
  {
   "cell_type": "code",
   "execution_count": 18,
   "id": "6047db89-ff44-4059-a361-85cf91504046",
   "metadata": {},
   "outputs": [],
   "source": [
    "#Define row and column"
   ]
  },
  {
   "cell_type": "code",
   "execution_count": 22,
   "id": "b2ef0c34-baaa-4d0a-a851-dceee101897c",
   "metadata": {},
   "outputs": [
    {
     "data": {
      "text/plain": [
       "['Very Satisfied', 'Satisfied', 'Neutral', 'Unsatisfied', 'Very Unsatisfied']"
      ]
     },
     "execution_count": 22,
     "metadata": {},
     "output_type": "execute_result"
    }
   ],
   "source": [
    "statisfaction_levels=[\"Very Satisfied\", \"Satisfied\", \"Neutral\", \"Unsatisfied\", \"Very Unsatisfied\"]\n",
    "statisfaction_levels"
   ]
  },
  {
   "cell_type": "code",
   "execution_count": 24,
   "id": "21f6619a-22ff-4299-8e93-4bd815be7710",
   "metadata": {},
   "outputs": [
    {
     "data": {
      "text/plain": [
       "['Smart Thermostat', 'Smart Light']"
      ]
     },
     "execution_count": 24,
     "metadata": {},
     "output_type": "execute_result"
    }
   ],
   "source": [
    "types = [\"Smart Thermostat\", \"Smart Light\"]\n",
    "types"
   ]
  },
  {
   "cell_type": "code",
   "execution_count": 26,
   "id": "8e1f4707-e8f6-49e1-83d0-a527b8b68bb5",
   "metadata": {},
   "outputs": [
    {
     "name": "stdout",
     "output_type": "stream",
     "text": [
      "\n",
      "Hypotheses:\n",
      "H0 (Null Hypothesis): There is no association between the type of smart home device purchased and customer satisfaction.\n",
      "H1 (Alternative Hypothesis): There is an association between the type of smart home device purchased and customer satisfaction.\n"
     ]
    }
   ],
   "source": [
    "# 1. State the Hypotheses\n",
    "print(\"\\nHypotheses:\")\n",
    "print(\"H0 (Null Hypothesis): There is no association between the type of smart home device purchased and customer satisfaction.\")\n",
    "print(\"H1 (Alternative Hypothesis): There is an association between the type of smart home device purchased and customer satisfaction.\")"
   ]
  },
  {
   "cell_type": "code",
   "execution_count": 30,
   "id": "90ef8093-81e5-4180-97cc-8fb5257f09f8",
   "metadata": {},
   "outputs": [
    {
     "name": "stdout",
     "output_type": "stream",
     "text": [
      "\n",
      "Chi-Square Test Results:\n",
      "Chi-Square Statistic: 5.638227513227513\n",
      "P-Value: 0.22784371130697179\n",
      "Degrees of Freedom: 4\n",
      "\n",
      "Expected Frequencies:\n",
      "The history saving thread hit an unexpected error (OperationalError('database or disk is full')).History will not be written to the database.\n"
     ]
    },
    {
     "ename": "NameError",
     "evalue": "name 'satisfaction_levels' is not defined",
     "output_type": "error",
     "traceback": [
      "\u001b[1;31m---------------------------------------------------------------------------\u001b[0m",
      "\u001b[1;31mNameError\u001b[0m                                 Traceback (most recent call last)",
      "Cell \u001b[1;32mIn[30], line 8\u001b[0m\n\u001b[0;32m      6\u001b[0m \u001b[38;5;28mprint\u001b[39m(\u001b[38;5;124mf\u001b[39m\u001b[38;5;124m\"\u001b[39m\u001b[38;5;124mDegrees of Freedom: \u001b[39m\u001b[38;5;132;01m{\u001b[39;00mdof\u001b[38;5;132;01m}\u001b[39;00m\u001b[38;5;124m\"\u001b[39m)\n\u001b[0;32m      7\u001b[0m \u001b[38;5;28mprint\u001b[39m(\u001b[38;5;124m\"\u001b[39m\u001b[38;5;130;01m\\n\u001b[39;00m\u001b[38;5;124mExpected Frequencies:\u001b[39m\u001b[38;5;124m\"\u001b[39m)\n\u001b[1;32m----> 8\u001b[0m \u001b[38;5;28mprint\u001b[39m(pd\u001b[38;5;241m.\u001b[39mDataFrame(expected, columns\u001b[38;5;241m=\u001b[39mtypes, index\u001b[38;5;241m=\u001b[39msatisfaction_levels))\n",
      "\u001b[1;31mNameError\u001b[0m: name 'satisfaction_levels' is not defined"
     ]
    }
   ],
   "source": [
    "# 2. Compute the Chi-Square Statistic\n",
    "chi2_stat, p_value, dof, expected = stats.chi2_contingency(data)\n",
    "print(\"\\nChi-Square Test Results:\")\n",
    "print(f\"Chi-Square Statistic: {chi2_stat}\")\n",
    "print(f\"P-Value: {p_value}\")\n",
    "print(f\"Degrees of Freedom: {dof}\")\n",
    "print(\"\\nExpected Frequencies:\")\n",
    "print(pd.DataFrame(expected, columns=types, index=satisfaction_levels))"
   ]
  },
  {
   "cell_type": "code",
   "execution_count": 34,
   "id": "1822c298-cd91-4d40-9903-7ddb6513b664",
   "metadata": {},
   "outputs": [
    {
     "name": "stdout",
     "output_type": "stream",
     "text": [
      "\n",
      "Critical Value (alpha=0.05):9.487729036781154\n"
     ]
    }
   ],
   "source": [
    "#3. Determine the Critical Value\n",
    "alpha =0.05\n",
    "critical_value=stats.chi2.ppf(1-alpha,dof)\n",
    "print(f\"\\nCritical Value (alpha={alpha}):{critical_value}\")"
   ]
  },
  {
   "cell_type": "code",
   "execution_count": 36,
   "id": "795a4e28-e9e6-4e30-b4ce-e15df17980b5",
   "metadata": {},
   "outputs": [
    {
     "name": "stdout",
     "output_type": "stream",
     "text": [
      "\n",
      "Decision: Fail to reject the null hypothesis (H0).\n",
      "Conclusion: There is no significant association between the type of smart home device purchased and customer satisfaction.\n"
     ]
    }
   ],
   "source": [
    "# 4. Make a Decision\n",
    "if chi2_stat > critical_value:\n",
    "    print(\"\\nDecision: Reject the null hypothesis (H0).\")\n",
    "    print(\"Conclusion: There is a significant association between the type of smart home device purchased and customer satisfaction.\")\n",
    "else:\n",
    "    print(\"\\nDecision: Fail to reject the null hypothesis (H0).\")\n",
    "    print(\"Conclusion: There is no significant association between the type of smart home device purchased and customer satisfaction.\")"
   ]
  },
  {
   "cell_type": "code",
   "execution_count": null,
   "id": "9fcf46b6-ad65-4618-84ab-74011446b699",
   "metadata": {},
   "outputs": [],
   "source": []
  }
 ],
 "metadata": {
  "kernelspec": {
   "display_name": "Python 3 (ipykernel)",
   "language": "python",
   "name": "python3"
  },
  "language_info": {
   "codemirror_mode": {
    "name": "ipython",
    "version": 3
   },
   "file_extension": ".py",
   "mimetype": "text/x-python",
   "name": "python",
   "nbconvert_exporter": "python",
   "pygments_lexer": "ipython3",
   "version": "3.12.4"
  }
 },
 "nbformat": 4,
 "nbformat_minor": 5
}
