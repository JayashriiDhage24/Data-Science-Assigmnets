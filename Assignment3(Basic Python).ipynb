{
 "cells": [
  {
   "cell_type": "code",
   "execution_count": 1,
   "id": "03ed0d77-438d-4104-8d25-82dfeb01fbf3",
   "metadata": {},
   "outputs": [
    {
     "name": "stdin",
     "output_type": "stream",
     "text": [
      "Enter a number: 2\n"
     ]
    },
    {
     "name": "stdout",
     "output_type": "stream",
     "text": [
      "2 is not a prime number.\n"
     ]
    }
   ],
   "source": [
    "def prime(number):\n",
    "    if number<=1:\n",
    "        return False\n",
    "    for i in range(2,int (number**0.5)+1):\n",
    "        if number%i==0:\n",
    "            return False\n",
    "            return True\n",
    "\n",
    "num=int(input(\"Enter a number:\"))\n",
    "\n",
    "if prime(num):\n",
    "    print(f\"{num} is a prime number.\")\n",
    "else:\n",
    "    print(f\"{num} is not a prime number.\")"
   ]
  },
  {
   "cell_type": "code",
   "execution_count": 3,
   "id": "7d045018-d813-4153-8d29-36f37fa63107",
   "metadata": {},
   "outputs": [],
   "source": [
    "import random"
   ]
  },
  {
   "cell_type": "code",
   "execution_count": 9,
   "id": "773bb548-7d4e-4a9d-b3b3-1a91ecae139e",
   "metadata": {},
   "outputs": [
    {
     "name": "stdin",
     "output_type": "stream",
     "text": [
      "what is the product of 9 and 7? 36\n"
     ]
    },
    {
     "name": "stdout",
     "output_type": "stream",
     "text": [
      "Incorrect.The correct anwer is 63.\n"
     ]
    }
   ],
   "source": [
    "num1=random.randint(1,10)\n",
    "num2=random.randint(1,10)\n",
    "\n",
    "correct_answer=num1*num2\n",
    "\n",
    "user_answer=int(input(f\"what is the product of {num1} and {num2}?\"))\n",
    "\n",
    "if user_answer == correct_answer:\n",
    "    print(\"Correct! well done!\")\n",
    "else:\n",
    "    print(f\"Incorrect.The correct anwer is {correct_answer}.\")"
   ]
  },
  {
   "cell_type": "code",
   "execution_count": 11,
   "id": "a62f57a3-9955-4748-987f-27070df49978",
   "metadata": {},
   "outputs": [
    {
     "name": "stdout",
     "output_type": "stream",
     "text": [
      "The square of 100 is 10000\n",
      "The square of 102 is 10404\n",
      "The square of 104 is 10816\n",
      "The square of 106 is 11236\n",
      "The square of 108 is 11664\n",
      "The square of 110 is 12100\n",
      "The square of 112 is 12544\n",
      "The square of 114 is 12996\n",
      "The square of 116 is 13456\n",
      "The square of 118 is 13924\n",
      "The square of 120 is 14400\n",
      "The square of 122 is 14884\n",
      "The square of 124 is 15376\n",
      "The square of 126 is 15876\n",
      "The square of 128 is 16384\n",
      "The square of 130 is 16900\n",
      "The square of 132 is 17424\n",
      "The square of 134 is 17956\n",
      "The square of 136 is 18496\n",
      "The square of 138 is 19044\n",
      "The square of 140 is 19600\n",
      "The square of 142 is 20164\n",
      "The square of 144 is 20736\n",
      "The square of 146 is 21316\n",
      "The square of 148 is 21904\n",
      "The square of 150 is 22500\n",
      "The square of 152 is 23104\n",
      "The square of 154 is 23716\n",
      "The square of 156 is 24336\n",
      "The square of 158 is 24964\n",
      "The square of 160 is 25600\n",
      "The square of 162 is 26244\n",
      "The square of 164 is 26896\n",
      "The square of 166 is 27556\n",
      "The square of 168 is 28224\n",
      "The square of 170 is 28900\n",
      "The square of 172 is 29584\n",
      "The square of 174 is 30276\n",
      "The square of 176 is 30976\n",
      "The square of 178 is 31684\n",
      "The square of 180 is 32400\n",
      "The square of 182 is 33124\n",
      "The square of 184 is 33856\n",
      "The square of 186 is 34596\n",
      "The square of 188 is 35344\n",
      "The square of 190 is 36100\n",
      "The square of 192 is 36864\n",
      "The square of 194 is 37636\n",
      "The square of 196 is 38416\n",
      "The square of 198 is 39204\n",
      "The square of 200 is 40000\n"
     ]
    }
   ],
   "source": [
    "for number in range (100,201):\n",
    "    if number % 2 == 0:\n",
    "        square = number**2\n",
    "        print(f\"The square of {number} is {square}\")"
   ]
  },
  {
   "cell_type": "code",
   "execution_count": 13,
   "id": "9d76f28d-550b-4dc8-b1e1-c958fde6a8b5",
   "metadata": {},
   "outputs": [
    {
     "name": "stdout",
     "output_type": "stream",
     "text": [
      "'This':2\n",
      "'is':1\n",
      "'a':1\n",
      "'sample':1\n",
      "'text.':1\n",
      "'text':1\n",
      "'will':1\n",
      "'be':1\n",
      "'used':1\n",
      "'to':1\n",
      "'demonstrate':1\n",
      "'the':1\n",
      "'word':1\n",
      "'counter.':1\n"
     ]
    }
   ],
   "source": [
    "from collections import Counter\n",
    "def word_count(input_text):\n",
    "    words=input_text.split()\n",
    "    word_counts=Counter(words)\n",
    "    for word ,count in word_counts.items():\n",
    "        print(f\"'{word}':{count}\")\n",
    "input_text=\"This is a sample text. This text will be used to demonstrate the word counter.\"\n",
    "word_count(input_text)"
   ]
  },
  {
   "cell_type": "code",
   "execution_count": 1,
   "id": "6b95c2ce-0786-494a-91b0-6076e4887781",
   "metadata": {},
   "outputs": [
    {
     "name": "stdout",
     "output_type": "stream",
     "text": [
      "True\n",
      "True\n",
      "False\n"
     ]
    }
   ],
   "source": [
    "import re \n",
    "def is_palindrome(input_string):\n",
    "    cleaned_string=re.sub(r'[^A-Za-z0-9]', '', input_string).lower()\n",
    "    return cleaned_string==cleaned_string[::-1]\n",
    "print(is_palindrome(\"racecar\"))       \n",
    "print(is_palindrome(\"A man, a plan, a canal: Panama\"))  \n",
    "print(is_palindrome(\"hello\"))    "
   ]
  },
  {
   "cell_type": "code",
   "execution_count": null,
   "id": "b06ba732-7a66-4a19-b9ee-d66d23db7239",
   "metadata": {},
   "outputs": [],
   "source": []
  }
 ],
 "metadata": {
  "kernelspec": {
   "display_name": "Python 3 (ipykernel)",
   "language": "python",
   "name": "python3"
  },
  "language_info": {
   "codemirror_mode": {
    "name": "ipython",
    "version": 3
   },
   "file_extension": ".py",
   "mimetype": "text/x-python",
   "name": "python",
   "nbconvert_exporter": "python",
   "pygments_lexer": "ipython3",
   "version": "3.12.4"
  }
 },
 "nbformat": 4,
 "nbformat_minor": 5
}
