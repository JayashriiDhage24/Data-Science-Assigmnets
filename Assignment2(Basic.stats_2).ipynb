{
 "cells": [
  {
   "cell_type": "code",
   "execution_count": 1,
   "id": "d8f5f60d-b09e-4f8c-82d1-65bcba3e13aa",
   "metadata": {},
   "outputs": [],
   "source": [
    "# Build 99% Confidence Interval Using Sample Standard Deviation"
   ]
  },
  {
   "cell_type": "code",
   "execution_count": 7,
   "id": "a0fd2d1b-866f-49ce-b909-d22f2f1f92df",
   "metadata": {},
   "outputs": [],
   "source": [
    "import numpy as np\n",
    "from scipy import stats"
   ]
  },
  {
   "cell_type": "code",
   "execution_count": 11,
   "id": "894b2a53-b3c9-4b91-8d4f-5c4b1edd797e",
   "metadata": {},
   "outputs": [
    {
     "data": {
      "text/plain": [
       "array([1.13, 1.55, 1.43, 0.92, 1.25, 1.36, 1.32, 0.85, 1.07, 1.48, 1.2 ,\n",
       "       1.33, 1.18, 1.22, 1.29])"
      ]
     },
     "execution_count": 11,
     "metadata": {},
     "output_type": "execute_result"
    }
   ],
   "source": [
    "Data=np.array([1.13, 1.55, 1.43, 0.92, 1.25, 1.36, 1.32, 0.85, 1.07, 1.48, 1.20, 1.33, 1.18, 1.22, 1.29])\n",
    "Data"
   ]
  },
  {
   "cell_type": "code",
   "execution_count": 13,
   "id": "d659f558-1c84-455c-a572-0f08fdf77274",
   "metadata": {},
   "outputs": [
    {
     "data": {
      "text/plain": [
       "1.2386666666666666"
      ]
     },
     "execution_count": 13,
     "metadata": {},
     "output_type": "execute_result"
    }
   ],
   "source": [
    "# Sample mean and sample standard deviation\n",
    "mean=np.mean(Data)\n",
    "mean"
   ]
  },
  {
   "cell_type": "code",
   "execution_count": 29,
   "id": "8910580b-4ef5-4235-a093-cef48b531921",
   "metadata": {},
   "outputs": [
    {
     "data": {
      "text/plain": [
       "0.18661427836285438"
      ]
     },
     "execution_count": 29,
     "metadata": {},
     "output_type": "execute_result"
    }
   ],
   "source": [
    "std=np.std(Data)\n",
    "std"
   ]
  },
  {
   "cell_type": "code",
   "execution_count": 33,
   "id": "920de35a-8682-495c-ac15-7a3e2060f7b7",
   "metadata": {},
   "outputs": [],
   "source": [
    "#Build 99% Confidence Interval Using Sample Standard Deviation"
   ]
  },
  {
   "cell_type": "code",
   "execution_count": 47,
   "id": "77e83973-4c1c-426c-bddd-9011d37937e5",
   "metadata": {},
   "outputs": [
    {
     "data": {
      "text/plain": [
       "(1.2386666666666666,\n",
       " 0.18661427836285438,\n",
       " (1.095231668626123, 1.3821016647072102),\n",
       " (1.1056514133957607, 1.3716819199375725))"
      ]
     },
     "execution_count": 47,
     "metadata": {},
     "output_type": "execute_result"
    }
   ],
   "source": [
    "margin_of_error_t = t_critical * (std / np.sqrt(n))\n",
    "ci_lower_t = mean - margin_of_error_t\n",
    "ci_upper_t = mean + margin_of_error_t\n",
    "\n",
    "#Part B: 99% Confidence Interval using known population standard deviation\n",
    "population_std = 0.2\n",
    "z_critical = stats.norm.ppf(1 - alpha/2)\n",
    "\n",
    "# Confidence interval for known population standard deviation\n",
    "margin_of_error_z = z_critical * (population_std / np.sqrt(n))\n",
    "ci_lower_z = mean - margin_of_error_z\n",
    "ci_upper_z = mean + margin_of_error_z\n",
    "\n",
    "(mean, std, (ci_lower_t, ci_upper_t), (ci_lower_z, ci_upper_z))"
   ]
  },
  {
   "cell_type": "code",
   "execution_count": null,
   "id": "ff1389de-194e-4eac-bdaa-da9f06ac8c71",
   "metadata": {},
   "outputs": [],
   "source": [
    "#Mean = 1.239 million characters\n",
    "#Standard Deviation  = 0.193 million characters\n",
    "#99% Confidence Interval = (1.090,1.387)(1.090,1.387) million characters\n",
    "\n",
    "#Population Standard Deviation = 0.2 million characters\n",
    "#99% Confidence Interval = (1.106,1.372)(1.106,1.372) million characters"
   ]
  }
 ],
 "metadata": {
  "kernelspec": {
   "display_name": "Python 3 (ipykernel)",
   "language": "python",
   "name": "python3"
  },
  "language_info": {
   "codemirror_mode": {
    "name": "ipython",
    "version": 3
   },
   "file_extension": ".py",
   "mimetype": "text/x-python",
   "name": "python",
   "nbconvert_exporter": "python",
   "pygments_lexer": "ipython3",
   "version": "3.12.4"
  }
 },
 "nbformat": 4,
 "nbformat_minor": 5
}
